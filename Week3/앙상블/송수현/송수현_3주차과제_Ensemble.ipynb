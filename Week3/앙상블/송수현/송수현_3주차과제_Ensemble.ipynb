{
  "cells": [
    {
      "cell_type": "markdown",
      "metadata": {
        "id": "_xOAfB-GiaZh"
      },
      "source": [
        "# Tobigs 22기 3주차 정규세션 Ensemble 과제"
      ]
    },
    {
      "cell_type": "markdown",
      "metadata": {
        "id": "5hxzIrdRihjn"
      },
      "source": [
        "# 과제1. High variance/bias"
      ]
    },
    {
      "cell_type": "markdown",
      "metadata": {
        "id": "Ni0ZDw5st7H9"
      },
      "source": [
        "개념참조영상 : https://www.youtube.com/watch?v=EuBBz3bI-aA"
      ]
    },
    {
      "cell_type": "markdown",
      "metadata": {
        "id": "liNjHb33irML"
      },
      "source": [
        "## Q1. High variance의 정의 및 문제점에 대해 설명해주세요."
      ]
    },
    {
      "cell_type": "markdown",
      "metadata": {
        "id": "zLMnK6tLnIdD"
      },
      "source": [
        "🐻‍❄️ {High variance는 모델이 학습 데이터에 과도하게 적합(overfitting)하여 새로운 데이터에 대해 일반화되지 않는 문제를 의미한다. High variance를 가진 모델은 학습 데이터에 대한 예측 성능은 높지만, 검증 데이터나 테스트 데이터에 대한 성능이 떨어진다. 이로 인해 모델이 새로운 데이터에 대해 부정확한 예측을 할 가능성이 높아지며, 이는 모델의 신뢰도를 낮추는 결과를 초래한다.}"
      ]
    },
    {
      "cell_type": "markdown",
      "metadata": {
        "id": "bivDB4kEnK-P"
      },
      "source": [
        "## Q2. High bias의 정의 및 문제점에 대해 설명해주세요."
      ]
    },
    {
      "cell_type": "markdown",
      "metadata": {
        "id": "h5JAKP30nOOP"
      },
      "source": [
        "🐻‍❄️ {High bias는 모델이 학습 데이터에 대해 충분히 학습하지 못해 간과(underfitting)하게 되는 상황을 의미한다. 이 경우 모델이 너무 단순하여 학습 데이터의 패턴을 충분히 포착하지 못하며, 이는 학습 데이터뿐만 아니라 새로운 데이터에 대해서도 낮은 예측 성능을 보이게 만든다. High bias는 모델이 복잡한 데이터의 패턴을 제대로 반영하지 못하게 하며, 이는 전체적인 성능 저하를 유발한다.}"
      ]
    },
    {
      "cell_type": "markdown",
      "metadata": {
        "id": "a-WnTREZnW6x"
      },
      "source": [
        "## Q3. High variance 와 high bias를 다룰때 적합한 ensemble 방식과 그 이유를 적어주세요."
      ]
    },
    {
      "cell_type": "markdown",
      "metadata": {
        "id": "tmcHEXvvpQeZ"
      },
      "source": [
        "- High variance problem : 🐻‍❄️ {Bagging (Bootstrap Aggregating)은 High variance 문제를 해결하는 데 효과적이다. Bagging은 다양한 데이터 샘플을 사용해 여러 개의 모델을 학습시킨 후, 이 모델들의 예측을 평균 또는 투표 방식으로 결합한다. 이를 통해 개별 모델이 과적합(overfitting)되는 문제를 줄이고, 전체 모델의 일반화 성능을 향상시킬 수 있다.}\n"
      ]
    },
    {
      "cell_type": "markdown",
      "metadata": {
        "id": "_uH2ZHQrpnEH"
      },
      "source": [
        "- High bias problem : 🐻‍❄️ {Boosting은 High bias 문제를 해결하는 데 적합한 방법이다. Boosting은 학습이 덜 된 모델(약한 학습기)을 순차적으로 학습시키고, 각 단계에서 이전 모델의 오차를 줄이는 방향으로 다음 모델을 학습시킨다. 이를 통해 복잡한 패턴도 학습할 수 있도록 모델의 복잡도를 높여 underfitting 문제를 완화할 수 있다.}"
      ]
    },
    {
      "cell_type": "markdown",
      "metadata": {
        "id": "SQxmuuhJtMnR"
      },
      "source": [
        "# 과제2. Ensemble 실습"
      ]
    },
    {
      "cell_type": "markdown",
      "metadata": {
        "id": "BRjU5wonvHe-"
      },
      "source": [
        "데이터 출처: https://www.kaggle.com/sakshigoyal7/credit-card-customers"
      ]
    },
    {
      "cell_type": "markdown",
      "metadata": {
        "id": "AwPHTl6BtjH1"
      },
      "source": [
        "## 목표 : 은행 신용 카드 서비스 이탈 고객 예측 모델 만들기!\n",
        "\n",
        "### 칼럼 설명\n",
        "```\n",
        "[features]\n",
        " - Customer_Age : 고객의 나이\n",
        " - Gender : 성별 (M=Male, F=Female)\n",
        " - Dependent_count : 부양하는 가족의 수\n",
        " - Education_Level : 고객의 최종 학력 (example: high school, college graduate, etc.)\n",
        " - Marital_Status : 결혼 상태 (Married, Single, Divorced, Unknown)\n",
        " - Income_Category : 소득 범주 (< $40K, $40K - 60K, $60K - $80K, $80K-$120K, etc.)\n",
        " - Card_Category : 카드 종류 (Blue, Silver, Gold, Platinum)\n",
        " - Months_on_book : 은행과의 관계 기간 (개월 수)\n",
        " - Total_Relationship_Count : 고객이 보유한 전체 제품 수\n",
        " - Months_Inactive_12_mon : 최근 12개월 동안 비활성화된 개월 수\n",
        " - Contacts_Count_12_mon : 최근 12개월 동안의 연락 횟수\n",
        " - Credit_Limit : 신용 카드의 신용 한도\n",
        " - Total_Revolving_Bal : 신용 카드의 총 회전 잔액\n",
        " - Avg_Open_To_Buy : 구매 가능 신용 한도 (최근 12개월 평균)\n",
        " - Total_Amt_Chng_Q4_Q1 : 거래 금액 변화율 (4분기 대비 1분기)\n",
        " - Total_Trans_Amt :  총 거래 금액 (지난 12개월)\n",
        " - Total_Trans_Ct : 총 거래 횟수 (지난 12개월)\n",
        " - Total_Ct_Chng_Q4_Q1 : 거래 횟수 변화율 (4분기 대비 1분기)\n",
        " - Avg_Utilization_Ratio : 평균 카드 이용 비율\n",
        "\n",
        "[target]\n",
        " - Attrition_Flag : 고객 활동 변수 / Existing Customer - 0, Attrited Customer - 1\n",
        "\n",
        "```\n"
      ]
    },
    {
      "cell_type": "code",
      "execution_count": 4,
      "metadata": {
        "colab": {
          "base_uri": "https://localhost:8080/"
        },
        "id": "1VH82x-ZiqiH",
        "outputId": "16663d90-73b8-4e4a-c059-04a98ff9efad"
      },
      "outputs": [
        {
          "name": "stdout",
          "output_type": "stream",
          "text": [
            "23\n",
            "21\n"
          ]
        }
      ],
      "source": [
        "import pandas as pd\n",
        "\n",
        "# 🐻‍❄️데이터의 경로는 변경해주세요\n",
        "df = pd.read_csv('/Users/suhyun/Desktop/대외활동/동아리/투빅스/정규세션/3주차/BankChurners.csv')\n",
        "\n",
        "# Feature 21 & 22의 경우 데이터 셋에서 삭제하는 것을 추천하는 문구 발견, 삭제\n",
        "print(len(df.columns))\n",
        "df.drop(df.columns[[21, 22]], axis = 1, inplace = True) # inplace = True 데이터 원본에서 처리 not copy\n",
        "print(len(df.columns))"
      ]
    },
    {
      "cell_type": "code",
      "execution_count": 5,
      "metadata": {
        "colab": {
          "base_uri": "https://localhost:8080/",
          "height": 256
        },
        "id": "YRKgT_HeihEe",
        "outputId": "52fc0a88-b81d-4e35-a5a4-474879dcc911"
      },
      "outputs": [
        {
          "data": {
            "text/html": [
              "<div>\n",
              "<style scoped>\n",
              "    .dataframe tbody tr th:only-of-type {\n",
              "        vertical-align: middle;\n",
              "    }\n",
              "\n",
              "    .dataframe tbody tr th {\n",
              "        vertical-align: top;\n",
              "    }\n",
              "\n",
              "    .dataframe thead th {\n",
              "        text-align: right;\n",
              "    }\n",
              "</style>\n",
              "<table border=\"1\" class=\"dataframe\">\n",
              "  <thead>\n",
              "    <tr style=\"text-align: right;\">\n",
              "      <th></th>\n",
              "      <th>CLIENTNUM</th>\n",
              "      <th>Attrition_Flag</th>\n",
              "      <th>Customer_Age</th>\n",
              "      <th>Gender</th>\n",
              "      <th>Dependent_count</th>\n",
              "      <th>Education_Level</th>\n",
              "      <th>Marital_Status</th>\n",
              "      <th>Income_Category</th>\n",
              "      <th>Card_Category</th>\n",
              "      <th>Months_on_book</th>\n",
              "      <th>...</th>\n",
              "      <th>Months_Inactive_12_mon</th>\n",
              "      <th>Contacts_Count_12_mon</th>\n",
              "      <th>Credit_Limit</th>\n",
              "      <th>Total_Revolving_Bal</th>\n",
              "      <th>Avg_Open_To_Buy</th>\n",
              "      <th>Total_Amt_Chng_Q4_Q1</th>\n",
              "      <th>Total_Trans_Amt</th>\n",
              "      <th>Total_Trans_Ct</th>\n",
              "      <th>Total_Ct_Chng_Q4_Q1</th>\n",
              "      <th>Avg_Utilization_Ratio</th>\n",
              "    </tr>\n",
              "  </thead>\n",
              "  <tbody>\n",
              "    <tr>\n",
              "      <th>0</th>\n",
              "      <td>768805383</td>\n",
              "      <td>Existing Customer</td>\n",
              "      <td>45</td>\n",
              "      <td>M</td>\n",
              "      <td>3</td>\n",
              "      <td>High School</td>\n",
              "      <td>Married</td>\n",
              "      <td>$60K - $80K</td>\n",
              "      <td>Blue</td>\n",
              "      <td>39</td>\n",
              "      <td>...</td>\n",
              "      <td>1</td>\n",
              "      <td>3</td>\n",
              "      <td>12691.0</td>\n",
              "      <td>777</td>\n",
              "      <td>11914.0</td>\n",
              "      <td>1.335</td>\n",
              "      <td>1144</td>\n",
              "      <td>42</td>\n",
              "      <td>1.625</td>\n",
              "      <td>0.061</td>\n",
              "    </tr>\n",
              "    <tr>\n",
              "      <th>1</th>\n",
              "      <td>818770008</td>\n",
              "      <td>Existing Customer</td>\n",
              "      <td>49</td>\n",
              "      <td>F</td>\n",
              "      <td>5</td>\n",
              "      <td>Graduate</td>\n",
              "      <td>Single</td>\n",
              "      <td>Less than $40K</td>\n",
              "      <td>Blue</td>\n",
              "      <td>44</td>\n",
              "      <td>...</td>\n",
              "      <td>1</td>\n",
              "      <td>2</td>\n",
              "      <td>8256.0</td>\n",
              "      <td>864</td>\n",
              "      <td>7392.0</td>\n",
              "      <td>1.541</td>\n",
              "      <td>1291</td>\n",
              "      <td>33</td>\n",
              "      <td>3.714</td>\n",
              "      <td>0.105</td>\n",
              "    </tr>\n",
              "    <tr>\n",
              "      <th>2</th>\n",
              "      <td>713982108</td>\n",
              "      <td>Existing Customer</td>\n",
              "      <td>51</td>\n",
              "      <td>M</td>\n",
              "      <td>3</td>\n",
              "      <td>Graduate</td>\n",
              "      <td>Married</td>\n",
              "      <td>$80K - $120K</td>\n",
              "      <td>Blue</td>\n",
              "      <td>36</td>\n",
              "      <td>...</td>\n",
              "      <td>1</td>\n",
              "      <td>0</td>\n",
              "      <td>3418.0</td>\n",
              "      <td>0</td>\n",
              "      <td>3418.0</td>\n",
              "      <td>2.594</td>\n",
              "      <td>1887</td>\n",
              "      <td>20</td>\n",
              "      <td>2.333</td>\n",
              "      <td>0.000</td>\n",
              "    </tr>\n",
              "    <tr>\n",
              "      <th>3</th>\n",
              "      <td>769911858</td>\n",
              "      <td>Existing Customer</td>\n",
              "      <td>40</td>\n",
              "      <td>F</td>\n",
              "      <td>4</td>\n",
              "      <td>High School</td>\n",
              "      <td>Unknown</td>\n",
              "      <td>Less than $40K</td>\n",
              "      <td>Blue</td>\n",
              "      <td>34</td>\n",
              "      <td>...</td>\n",
              "      <td>4</td>\n",
              "      <td>1</td>\n",
              "      <td>3313.0</td>\n",
              "      <td>2517</td>\n",
              "      <td>796.0</td>\n",
              "      <td>1.405</td>\n",
              "      <td>1171</td>\n",
              "      <td>20</td>\n",
              "      <td>2.333</td>\n",
              "      <td>0.760</td>\n",
              "    </tr>\n",
              "    <tr>\n",
              "      <th>4</th>\n",
              "      <td>709106358</td>\n",
              "      <td>Existing Customer</td>\n",
              "      <td>40</td>\n",
              "      <td>M</td>\n",
              "      <td>3</td>\n",
              "      <td>Uneducated</td>\n",
              "      <td>Married</td>\n",
              "      <td>$60K - $80K</td>\n",
              "      <td>Blue</td>\n",
              "      <td>21</td>\n",
              "      <td>...</td>\n",
              "      <td>1</td>\n",
              "      <td>0</td>\n",
              "      <td>4716.0</td>\n",
              "      <td>0</td>\n",
              "      <td>4716.0</td>\n",
              "      <td>2.175</td>\n",
              "      <td>816</td>\n",
              "      <td>28</td>\n",
              "      <td>2.500</td>\n",
              "      <td>0.000</td>\n",
              "    </tr>\n",
              "  </tbody>\n",
              "</table>\n",
              "<p>5 rows × 21 columns</p>\n",
              "</div>"
            ],
            "text/plain": [
              "   CLIENTNUM     Attrition_Flag  Customer_Age Gender  Dependent_count  \\\n",
              "0  768805383  Existing Customer            45      M                3   \n",
              "1  818770008  Existing Customer            49      F                5   \n",
              "2  713982108  Existing Customer            51      M                3   \n",
              "3  769911858  Existing Customer            40      F                4   \n",
              "4  709106358  Existing Customer            40      M                3   \n",
              "\n",
              "  Education_Level Marital_Status Income_Category Card_Category  \\\n",
              "0     High School        Married     $60K - $80K          Blue   \n",
              "1        Graduate         Single  Less than $40K          Blue   \n",
              "2        Graduate        Married    $80K - $120K          Blue   \n",
              "3     High School        Unknown  Less than $40K          Blue   \n",
              "4      Uneducated        Married     $60K - $80K          Blue   \n",
              "\n",
              "   Months_on_book  ...  Months_Inactive_12_mon  Contacts_Count_12_mon  \\\n",
              "0              39  ...                       1                      3   \n",
              "1              44  ...                       1                      2   \n",
              "2              36  ...                       1                      0   \n",
              "3              34  ...                       4                      1   \n",
              "4              21  ...                       1                      0   \n",
              "\n",
              "   Credit_Limit  Total_Revolving_Bal  Avg_Open_To_Buy  Total_Amt_Chng_Q4_Q1  \\\n",
              "0       12691.0                  777          11914.0                 1.335   \n",
              "1        8256.0                  864           7392.0                 1.541   \n",
              "2        3418.0                    0           3418.0                 2.594   \n",
              "3        3313.0                 2517            796.0                 1.405   \n",
              "4        4716.0                    0           4716.0                 2.175   \n",
              "\n",
              "   Total_Trans_Amt  Total_Trans_Ct  Total_Ct_Chng_Q4_Q1  Avg_Utilization_Ratio  \n",
              "0             1144              42                1.625                  0.061  \n",
              "1             1291              33                3.714                  0.105  \n",
              "2             1887              20                2.333                  0.000  \n",
              "3             1171              20                2.333                  0.760  \n",
              "4              816              28                2.500                  0.000  \n",
              "\n",
              "[5 rows x 21 columns]"
            ]
          },
          "execution_count": 5,
          "metadata": {},
          "output_type": "execute_result"
        }
      ],
      "source": [
        "df.head()"
      ]
    },
    {
      "cell_type": "code",
      "execution_count": 6,
      "metadata": {
        "colab": {
          "base_uri": "https://localhost:8080/"
        },
        "id": "dK41AVUos-2d",
        "outputId": "61111acf-40ce-4aa2-a3af-6c252675f2cd"
      },
      "outputs": [
        {
          "name": "stdout",
          "output_type": "stream",
          "text": [
            "<class 'pandas.core.frame.DataFrame'>\n",
            "RangeIndex: 10127 entries, 0 to 10126\n",
            "Data columns (total 21 columns):\n",
            " #   Column                    Non-Null Count  Dtype  \n",
            "---  ------                    --------------  -----  \n",
            " 0   CLIENTNUM                 10127 non-null  int64  \n",
            " 1   Attrition_Flag            10127 non-null  object \n",
            " 2   Customer_Age              10127 non-null  int64  \n",
            " 3   Gender                    10127 non-null  object \n",
            " 4   Dependent_count           10127 non-null  int64  \n",
            " 5   Education_Level           10127 non-null  object \n",
            " 6   Marital_Status            10127 non-null  object \n",
            " 7   Income_Category           10127 non-null  object \n",
            " 8   Card_Category             10127 non-null  object \n",
            " 9   Months_on_book            10127 non-null  int64  \n",
            " 10  Total_Relationship_Count  10127 non-null  int64  \n",
            " 11  Months_Inactive_12_mon    10127 non-null  int64  \n",
            " 12  Contacts_Count_12_mon     10127 non-null  int64  \n",
            " 13  Credit_Limit              10127 non-null  float64\n",
            " 14  Total_Revolving_Bal       10127 non-null  int64  \n",
            " 15  Avg_Open_To_Buy           10127 non-null  float64\n",
            " 16  Total_Amt_Chng_Q4_Q1      10127 non-null  float64\n",
            " 17  Total_Trans_Amt           10127 non-null  int64  \n",
            " 18  Total_Trans_Ct            10127 non-null  int64  \n",
            " 19  Total_Ct_Chng_Q4_Q1       10127 non-null  float64\n",
            " 20  Avg_Utilization_Ratio     10127 non-null  float64\n",
            "dtypes: float64(5), int64(10), object(6)\n",
            "memory usage: 1.6+ MB\n"
          ]
        }
      ],
      "source": [
        "df.info()"
      ]
    },
    {
      "cell_type": "markdown",
      "metadata": {
        "id": "_u9ONzkNw_-p"
      },
      "source": [
        "## EDA & Preprocessing"
      ]
    },
    {
      "cell_type": "markdown",
      "metadata": {
        "id": "lUlNZgAsxClt"
      },
      "source": [
        "EDA를 통해 인사이트를 얻고 전처리를 진행해주세요."
      ]
    },
    {
      "cell_type": "code",
      "execution_count": 7,
      "metadata": {
        "id": "pkJz5T4Ow0P9"
      },
      "outputs": [
        {
          "name": "stdout",
          "output_type": "stream",
          "text": [
            "<class 'pandas.core.frame.DataFrame'>\n",
            "RangeIndex: 10127 entries, 0 to 10126\n",
            "Data columns (total 21 columns):\n",
            " #   Column                    Non-Null Count  Dtype  \n",
            "---  ------                    --------------  -----  \n",
            " 0   CLIENTNUM                 10127 non-null  int64  \n",
            " 1   Attrition_Flag            10127 non-null  object \n",
            " 2   Customer_Age              10127 non-null  int64  \n",
            " 3   Gender                    10127 non-null  object \n",
            " 4   Dependent_count           10127 non-null  int64  \n",
            " 5   Education_Level           10127 non-null  object \n",
            " 6   Marital_Status            10127 non-null  object \n",
            " 7   Income_Category           10127 non-null  object \n",
            " 8   Card_Category             10127 non-null  object \n",
            " 9   Months_on_book            10127 non-null  int64  \n",
            " 10  Total_Relationship_Count  10127 non-null  int64  \n",
            " 11  Months_Inactive_12_mon    10127 non-null  int64  \n",
            " 12  Contacts_Count_12_mon     10127 non-null  int64  \n",
            " 13  Credit_Limit              10127 non-null  float64\n",
            " 14  Total_Revolving_Bal       10127 non-null  int64  \n",
            " 15  Avg_Open_To_Buy           10127 non-null  float64\n",
            " 16  Total_Amt_Chng_Q4_Q1      10127 non-null  float64\n",
            " 17  Total_Trans_Amt           10127 non-null  int64  \n",
            " 18  Total_Trans_Ct            10127 non-null  int64  \n",
            " 19  Total_Ct_Chng_Q4_Q1       10127 non-null  float64\n",
            " 20  Avg_Utilization_Ratio     10127 non-null  float64\n",
            "dtypes: float64(5), int64(10), object(6)\n",
            "memory usage: 1.6+ MB\n",
            "Attrition_Flag\n",
            "Existing Customer    8500\n",
            "Attrited Customer    1627\n",
            "Name: count, dtype: int64\n",
            "\n",
            "\n",
            "Gender\n",
            "F    5358\n",
            "M    4769\n",
            "Name: count, dtype: int64\n",
            "\n",
            "\n",
            "Education_Level\n",
            "Graduate         3128\n",
            "High School      2013\n",
            "Unknown          1519\n",
            "Uneducated       1487\n",
            "College          1013\n",
            "Post-Graduate     516\n",
            "Doctorate         451\n",
            "Name: count, dtype: int64\n",
            "\n",
            "\n",
            "Marital_Status\n",
            "Married     4687\n",
            "Single      3943\n",
            "Unknown      749\n",
            "Divorced     748\n",
            "Name: count, dtype: int64\n",
            "\n",
            "\n",
            "Income_Category\n",
            "Less than $40K    3561\n",
            "$40K - $60K       1790\n",
            "$80K - $120K      1535\n",
            "$60K - $80K       1402\n",
            "Unknown           1112\n",
            "$120K +            727\n",
            "Name: count, dtype: int64\n",
            "\n",
            "\n",
            "Card_Category\n",
            "Blue        9436\n",
            "Silver       555\n",
            "Gold         116\n",
            "Platinum      20\n",
            "Name: count, dtype: int64\n",
            "\n",
            "\n"
          ]
        },
        {
          "data": {
            "image/png": "[encoded data removed]",
            "text/plain": [
              "<Figure size 640x480 with 1 Axes>"
            ]
          },
          "metadata": {},
          "output_type": "display_data"
        }
      ],
      "source": [
        "# 데이터프레임의 기본 정보 확인\n",
        "df.info()\n",
        "\n",
        "# 통계적 요약 확인\n",
        "df.describe()\n",
        "\n",
        "# 범주형 변수의 분포 확인\n",
        "categorical_features = df.select_dtypes(include=['object']).columns\n",
        "for feature in categorical_features:\n",
        "    print(df[feature].value_counts())\n",
        "    print(\"\\n\")\n",
        "\n",
        "# 타겟 변수 분포 확인\n",
        "import seaborn as sns\n",
        "import matplotlib.pyplot as plt\n",
        "\n",
        "sns.countplot(x='Attrition_Flag', data=df)\n",
        "plt.title('Distribution of Target Variable (Attrition_Flag)')\n",
        "plt.show()"
      ]
    },
    {
      "cell_type": "code",
      "execution_count": 12,
      "metadata": {
        "id": "mbUZhZPJxQjp"
      },
      "outputs": [
        {
          "name": "stdout",
          "output_type": "stream",
          "text": [
            "CLIENTNUM                   0\n",
            "Attrition_Flag              0\n",
            "Customer_Age                0\n",
            "Gender                      0\n",
            "Dependent_count             0\n",
            "Education_Level             0\n",
            "Marital_Status              0\n",
            "Income_Category             0\n",
            "Card_Category               0\n",
            "Months_on_book              0\n",
            "Total_Relationship_Count    0\n",
            "Months_Inactive_12_mon      0\n",
            "Contacts_Count_12_mon       0\n",
            "Credit_Limit                0\n",
            "Total_Revolving_Bal         0\n",
            "Avg_Open_To_Buy             0\n",
            "Total_Amt_Chng_Q4_Q1        0\n",
            "Total_Trans_Amt             0\n",
            "Total_Trans_Ct              0\n",
            "Total_Ct_Chng_Q4_Q1         0\n",
            "Avg_Utilization_Ratio       0\n",
            "dtype: int64\n"
          ]
        }
      ],
      "source": [
        "# 불필요한 칼럼이 있다면, 열 이름으로 삭제\n",
        "# df.drop(['불필요한_칼럼1', '불필요한_칼럼2'], axis=1, inplace=True)\n",
        "\n",
        "# 결측값 확인\n",
        "print(df.isnull().sum())\n",
        "\n",
        "# 범주형 변수를 One-Hot Encoding\n",
        "categorical_features = df.select_dtypes(include=['object']).columns\n",
        "df_encoded = pd.get_dummies(df, columns=categorical_features, drop_first=True)\n",
        "\n",
        "# 데이터 스케일링 (StandardScaler 사용)\n",
        "from sklearn.preprocessing import StandardScaler\n",
        "\n",
        "scaler = StandardScaler()\n",
        "df_scaled = scaler.fit_transform(df_encoded)\n",
        "\n",
        "# 스케일링된 데이터프레임으로 변환\n",
        "df_scaled = pd.DataFrame(df_scaled, columns=df_encoded.columns)\n"
      ]
    },
    {
      "cell_type": "markdown",
      "metadata": {
        "id": "wNgTn3kYvipX"
      },
      "source": [
        "## Modeling"
      ]
    },
    {
      "cell_type": "markdown",
      "metadata": {
        "id": "1zRYeknLxTnw"
      },
      "source": [
        "다음 4가지 모델의 성능을 비교해주세요.\n",
        "- Decision Tree\n",
        "- Random Forest\n",
        "- Adaboost\n",
        "- Gradientboosting\n",
        "- 이외 다른 ensemble 모델을 사용하셔도 됩니다!\n"
      ]
    },
    {
      "cell_type": "code",
      "execution_count": 14,
      "metadata": {
        "id": "ZJK2DD3xvgTE"
      },
      "outputs": [
        {
          "name": "stdout",
          "output_type": "stream",
          "text": [
            "=== Decision Tree ===\n",
            "Accuracy: 1.0000\n",
            "                   precision    recall  f1-score   support\n",
            "\n",
            "Attrited Customer       1.00      1.00      1.00       327\n",
            "Existing Customer       1.00      1.00      1.00      1699\n",
            "\n",
            "         accuracy                           1.00      2026\n",
            "        macro avg       1.00      1.00      1.00      2026\n",
            "     weighted avg       1.00      1.00      1.00      2026\n",
            "\n",
            "Confusion Matrix:\n",
            "[[ 327    0]\n",
            " [   0 1699]]\n",
            "\n",
            "\n",
            "=== Random Forest ===\n",
            "Accuracy: 1.0000\n",
            "                   precision    recall  f1-score   support\n",
            "\n",
            "Attrited Customer       1.00      1.00      1.00       327\n",
            "Existing Customer       1.00      1.00      1.00      1699\n",
            "\n",
            "         accuracy                           1.00      2026\n",
            "        macro avg       1.00      1.00      1.00      2026\n",
            "     weighted avg       1.00      1.00      1.00      2026\n",
            "\n",
            "Confusion Matrix:\n",
            "[[ 327    0]\n",
            " [   0 1699]]\n",
            "\n",
            "\n",
            "=== AdaBoost ===\n",
            "Accuracy: 1.0000\n",
            "                   precision    recall  f1-score   support\n",
            "\n",
            "Attrited Customer       1.00      1.00      1.00       327\n",
            "Existing Customer       1.00      1.00      1.00      1699\n",
            "\n",
            "         accuracy                           1.00      2026\n",
            "        macro avg       1.00      1.00      1.00      2026\n",
            "     weighted avg       1.00      1.00      1.00      2026\n",
            "\n",
            "Confusion Matrix:\n",
            "[[ 327    0]\n",
            " [   0 1699]]\n",
            "\n",
            "\n",
            "=== Gradient Boosting ===\n",
            "Accuracy: 1.0000\n",
            "                   precision    recall  f1-score   support\n",
            "\n",
            "Attrited Customer       1.00      1.00      1.00       327\n",
            "Existing Customer       1.00      1.00      1.00      1699\n",
            "\n",
            "         accuracy                           1.00      2026\n",
            "        macro avg       1.00      1.00      1.00      2026\n",
            "     weighted avg       1.00      1.00      1.00      2026\n",
            "\n",
            "Confusion Matrix:\n",
            "[[ 327    0]\n",
            " [   0 1699]]\n",
            "\n",
            "\n"
          ]
        }
      ],
      "source": [
        "from sklearn.model_selection import train_test_split\n",
        "from sklearn.metrics import accuracy_score, classification_report, confusion_matrix\n",
        "from sklearn.ensemble import RandomForestClassifier, AdaBoostClassifier, GradientBoostingClassifier\n",
        "from sklearn.tree import DecisionTreeClassifier\n",
        "\n",
        "# 데이터 분할: 입력 데이터 X와 타겟 y 설정\n",
        "X = df_scaled  # 전처리된 데이터\n",
        "y = df['Attrition_Flag']  # 타겟 변수\n",
        "\n",
        "# 학습 데이터와 테스트 데이터로 분할\n",
        "X_train, X_test, y_train, y_test = train_test_split(X, y, test_size=0.2, random_state=42)\n",
        "\n",
        "# 모델 초기화\n",
        "models = {\n",
        "    \"Decision Tree\": DecisionTreeClassifier(random_state=42),\n",
        "    \"Random Forest\": RandomForestClassifier(random_state=42),\n",
        "    \"AdaBoost\": AdaBoostClassifier(random_state=42),\n",
        "    \"Gradient Boosting\": GradientBoostingClassifier(random_state=42)\n",
        "}\n",
        "\n",
        "# 모델 훈련 및 평가\n",
        "for name, model in models.items():\n",
        "    model.fit(X_train, y_train)  # 모델 학습\n",
        "    predictions = model.predict(X_test)  # 예측\n",
        "    \n",
        "    # 성능 평가 및 결과 출력\n",
        "    print(f\"=== {name} ===\")\n",
        "    print(f\"Accuracy: {accuracy_score(y_test, predictions):.4f}\")\n",
        "    print(classification_report(y_test, predictions))\n",
        "    print(\"Confusion Matrix:\")\n",
        "    print(confusion_matrix(y_test, predictions))\n",
        "    print(\"\\n\")\n"
      ]
    }
  ],
  "metadata": {
    "colab": {
      "provenance": []
    },
    "kernelspec": {
      "display_name": "Python 3",
      "name": "python3"
    },
    "language_info": {
      "codemirror_mode": {
        "name": "ipython",
        "version": 3
      },
      "file_extension": ".py",
      "mimetype": "text/x-python",
      "name": "python",
      "nbconvert_exporter": "python",
      "pygments_lexer": "ipython3",
      "version": "3.11.7"
    }
  },
  "nbformat": 4,
  "nbformat_minor": 0
}
